{
 "cells": [
  {
   "cell_type": "markdown",
   "source": [
    "## 电影评论情感分类"
   ],
   "metadata": {
    "collapsed": false
   }
  },
  {
   "cell_type": "code",
   "execution_count": 1,
   "outputs": [],
   "source": [
    "import gensim\n",
    "import torch\n",
    "import torch.nn as nn\n",
    "import torch.nn.functional as F\n",
    "import numpy as np\n",
    "from collections import Counter\n",
    "from torch.utils.data import TensorDataset,DataLoader\n",
    "import torch.optim as optim"
   ],
   "metadata": {
    "collapsed": false
   }
  },
  {
   "cell_type": "code",
   "execution_count": 2,
   "outputs": [],
   "source": [
    "# 设置超参数\n",
    "LR = 0.001          # 学习率\n",
    "BATCH_SIZE = 32     # 训练批量\n",
    "EPOCH_NUM = 9       # 训练轮数\n",
    "NUM_WORKERS = 2\n",
    "device = torch.device('cuda:0' if torch.cuda.is_available() else 'cpu')"
   ],
   "metadata": {
    "collapsed": false
   }
  },
  {
   "cell_type": "code",
   "execution_count": 3,
   "outputs": [
    {
     "name": "stdout",
     "output_type": "stream",
     "text": [
      "58954\n"
     ]
    }
   ],
   "source": [
    "def build_word2id(file, save_to_path=None):\n",
    "    \"\"\"\n",
    "    :param file: word2id保存地址\n",
    "    :param save_to_path: 保存训练语料库中的词组对应的word2vec到本地\n",
    "    :return: None\n",
    "    \"\"\"\n",
    "    word2id = {'_PAD_': 0}\n",
    "    path = ['./data/train.txt', './data/validation.txt']\n",
    "\n",
    "    for _path in path:\n",
    "        with open(_path, encoding='utf-8') as f:\n",
    "            for line in f.readlines():\n",
    "                sp = line.strip().split()\n",
    "                for word in sp[1:]:\n",
    "                    if word not in word2id.keys():\n",
    "                        word2id[word] = len(word2id)\n",
    "    if save_to_path:\n",
    "        with open(file, 'w', encoding='utf-8') as f:\n",
    "            for w in word2id:\n",
    "                f.write(w+'\\t')\n",
    "                f.write(str(word2id[w]))\n",
    "                f.write('\\n')\n",
    "\n",
    "    return word2id\n",
    "\n",
    "\n",
    "word2id = build_word2id('./data/word2id.txt')\n",
    "print(len(word2id))"
   ],
   "metadata": {
    "collapsed": false
   }
  },
  {
   "cell_type": "code",
   "execution_count": 4,
   "outputs": [
    {
     "name": "stdout",
     "output_type": "stream",
     "text": [
      "(58954, 50)\n"
     ]
    }
   ],
   "source": [
    "def build_word2vec(filename, word2id, save_to_path=None):\n",
    "    \"\"\"\n",
    "    :param filename: 预训练的word2vec.\n",
    "    :param word2id: 语料文本中包含的词汇集.\n",
    "    :param save_to_path: 保存训练语料库中的词组对应的word2vec到本地\n",
    "    :return: 语料文本中词汇集对应的word2vec向量{id: word2vec}.\n",
    "    \"\"\"\n",
    "    n_words = max(word2id.values()) + 1\n",
    "    model = gensim.models.KeyedVectors.load_word2vec_format(filename, binary=True)\n",
    "    word_vecs = np.array(np.random.uniform(-1., 1., [n_words, model.vector_size]))\n",
    "    for word in word2id.keys():\n",
    "        try:\n",
    "            word_vecs[word2id[word]] = model[word]\n",
    "        except KeyError:\n",
    "            pass\n",
    "    if save_to_path:\n",
    "        with open(save_to_path, 'w', encoding='utf-8') as f:\n",
    "            for vec in word_vecs:\n",
    "                vec = [str(w) for w in vec]\n",
    "                f.write(' '.join(vec))\n",
    "                f.write('\\n')\n",
    "    return word_vecs\n",
    "\n",
    "word2vec = build_word2vec('./data/wiki_word2vec_50.bin', word2id)\n",
    "print(word2vec.shape)"
   ],
   "metadata": {
    "collapsed": false
   }
  },
  {
   "cell_type": "code",
   "execution_count": 5,
   "outputs": [],
   "source": [
    "def cat_to_id(classes=None):\n",
    "    \"\"\"\n",
    "    :param classes: 分类标签；默认为0:pos, 1:neg\n",
    "    :return: {分类标签：id}\n",
    "    \"\"\"\n",
    "    if not classes:\n",
    "        classes = ['0', '1']\n",
    "    cat2id = {cat: idx for (idx, cat) in enumerate(classes)}\n",
    "    return classes, cat2id\n",
    "\n",
    "\n",
    "def load_corpus(path, word2id, max_sen_len=50):\n",
    "    \"\"\"\n",
    "    :param path: 样本语料库的文件\n",
    "    :return: 文本内容contents，以及分类标签labels(onehot形式)\n",
    "    \"\"\"\n",
    "    _, cat2id = cat_to_id()\n",
    "    contents, labels = [], []\n",
    "    with open(path, encoding='utf-8') as f:\n",
    "        for line in f.readlines():\n",
    "            sp = line.strip().split()\n",
    "            if not sp:\n",
    "                continue\n",
    "            label = sp[0]\n",
    "            content = [word2id.get(w, 0) for w in sp[1:]]\n",
    "            content = content[:max_sen_len]\n",
    "            if len(content) < max_sen_len:\n",
    "                content += [word2id['_PAD_']] * (max_sen_len - len(content))\n",
    "            labels.append(label)\n",
    "            contents.append(content)\n",
    "    counter = Counter(labels)\n",
    "    print('\\tSamples num：%d' % (len(labels)))\n",
    "    for w in counter:\n",
    "        print('\\tLabel= {}: {}'.format(w, counter[w]))\n",
    "\n",
    "    contents = np.asarray(contents)\n",
    "    labels = np.array([cat2id[l] for l in labels])\n",
    "\n",
    "    return contents, labels"
   ],
   "metadata": {
    "collapsed": false
   }
  },
  {
   "cell_type": "code",
   "execution_count": 6,
   "outputs": [
    {
     "name": "stdout",
     "output_type": "stream",
     "text": [
      "Loading Train Dataset...\n",
      "\tSamples num：19998\n",
      "\tLabel= 1: 9999\n",
      "\tLabel= 0: 9999\n",
      "Loading Valid Dataset...\n",
      "\tSamples num：5629\n",
      "\tLabel= 1: 2812\n",
      "\tLabel= 0: 2817\n"
     ]
    }
   ],
   "source": [
    "# 加载训练集与验证集\n",
    "print('Loading Train Dataset...')\n",
    "train_contents, train_labels = load_corpus('./data/train.txt', word2id, max_sen_len=50)\n",
    "print('Loading Valid Dataset...')\n",
    "val_contents, val_labels = load_corpus('./data/validation.txt', word2id, max_sen_len=50)\n",
    "\n",
    "train_dataset = TensorDataset(torch.from_numpy(train_contents).type(torch.float),\n",
    "                              torch.from_numpy(train_labels).type(torch.long))\n",
    "valid_dataset = TensorDataset(torch.from_numpy(val_contents).type(torch.float),\n",
    "                              torch.from_numpy(val_labels).type(torch.long))\n",
    "train_dataloader = DataLoader(dataset = train_dataset, batch_size = BATCH_SIZE,\n",
    "                              shuffle = True, num_workers = NUM_WORKERS)\n",
    "valid_dataloader = DataLoader(dataset = valid_dataset, batch_size = BATCH_SIZE,\n",
    "                              shuffle = True, num_workers = NUM_WORKERS)"
   ],
   "metadata": {
    "collapsed": false
   }
  },
  {
   "cell_type": "code",
   "execution_count": 7,
   "outputs": [],
   "source": [
    "# 设置模型参数\n",
    "class CONFIG:\n",
    "    update_w2v = True                   # 是否在训练中更新w2v\n",
    "    vocab_size = word2vec.shape[0]      # 词汇量，与word2id中的词汇量一致\n",
    "    n_class = 2                         # 分类数：分别为pos和neg\n",
    "    embedding_dim = word2vec.shape[1]   # 词向量维度\n",
    "    drop_prob = 0.5                     # dropout层，参数keep的比例\n",
    "    num_filters = 128                   # 卷积层filter的数量\n",
    "    kernel_size = 5                    # 卷积核的尺寸\n",
    "    pretrained_embed = word2vec         # 预训练的词嵌入模型"
   ],
   "metadata": {
    "collapsed": false
   }
  },
  {
   "cell_type": "code",
   "execution_count": 8,
   "outputs": [],
   "source": [
    "class TextCNN(nn.Module):\n",
    "    def __init__(self, config):\n",
    "        super(TextCNN, self).__init__()\n",
    "        update_w2v = config.update_w2v\n",
    "        vocab_size = config.vocab_size\n",
    "        n_class = config.n_class\n",
    "        embedding_dim = config.embedding_dim\n",
    "        num_filters = config.num_filters\n",
    "        kernel_size = config.kernel_size\n",
    "        drop_prob = config.drop_prob\n",
    "        pretrained_embed = config.pretrained_embed\n",
    "\n",
    "        # 使用预训练的词向量\n",
    "        self.embedding = nn.Embedding(vocab_size, embedding_dim)\n",
    "        self.embedding.weight.data.copy_(torch.from_numpy(pretrained_embed))\n",
    "        self.embedding.weight.requires_grad = update_w2v\n",
    "        # 卷积层\n",
    "        self.conv = nn.Conv2d(1,num_filters,(kernel_size,embedding_dim))\n",
    "        # Dropout\n",
    "        self.dropout = nn.Dropout(drop_prob)\n",
    "        # 全连接层\n",
    "        self.fc = nn.Linear(num_filters, n_class)\n",
    "\n",
    "    def forward(self, x):\n",
    "        x = x.to(torch.int64)\n",
    "        x = self.embedding(x)\n",
    "        x = x.unsqueeze(1)\n",
    "        x = F.relu(self.conv(x)).squeeze(3)\n",
    "        x = F.max_pool1d(x, x.size(2)).squeeze(2)\n",
    "        x = self.dropout(x)\n",
    "        x = self.fc(x)\n",
    "        return x"
   ],
   "metadata": {
    "collapsed": false
   }
  },
  {
   "cell_type": "code",
   "execution_count": 9,
   "outputs": [],
   "source": [
    "config = CONFIG()\n",
    "model = TextCNN(config)\n",
    "model.to(device)\n",
    "optimizer = torch.optim.Adam(model.parameters(), lr = LR)\n",
    "criterion = nn.CrossEntropyLoss()\n",
    "scheduler = optim.lr_scheduler.StepLR(optimizer, step_size=3, gamma=0.5)"
   ],
   "metadata": {
    "collapsed": false
   }
  },
  {
   "cell_type": "code",
   "execution_count": 10,
   "outputs": [
    {
     "name": "stderr",
     "output_type": "stream",
     "text": [
      "Epoch [1/9]: 100%|██████████| 625/625 [00:10<00:00, 58.55it/s, loss=0.383] \n"
     ]
    },
    {
     "name": "stdout",
     "output_type": "stream",
     "text": [
      "[epoch:1] <Train> Loss: 0.517, Acc: 73.832% \t<Valid> Acc: 79.819%\n"
     ]
    },
    {
     "name": "stderr",
     "output_type": "stream",
     "text": [
      "Epoch [2/9]: 100%|██████████| 625/625 [00:07<00:00, 84.95it/s, loss=0.486] \n"
     ]
    },
    {
     "name": "stdout",
     "output_type": "stream",
     "text": [
      "[epoch:2] <Train> Loss: 0.350, Acc: 85.059% \t<Valid> Acc: 82.715%\n"
     ]
    },
    {
     "name": "stderr",
     "output_type": "stream",
     "text": [
      "Epoch [3/9]: 100%|██████████| 625/625 [00:07<00:00, 88.82it/s, loss=0.133]  \n"
     ]
    },
    {
     "name": "stdout",
     "output_type": "stream",
     "text": [
      "[epoch:3] <Train> Loss: 0.236, Acc: 90.849% \t<Valid> Acc: 83.549%\n"
     ]
    },
    {
     "name": "stderr",
     "output_type": "stream",
     "text": [
      "Epoch [4/9]: 100%|██████████| 625/625 [00:06<00:00, 91.57it/s, loss=0.0568] \n"
     ]
    },
    {
     "name": "stdout",
     "output_type": "stream",
     "text": [
      "[epoch:4] <Train> Loss: 0.138, Acc: 95.175% \t<Valid> Acc: 83.656%\n"
     ]
    },
    {
     "name": "stderr",
     "output_type": "stream",
     "text": [
      "Epoch [5/9]: 100%|██████████| 625/625 [00:06<00:00, 90.91it/s, loss=0.162]  \n"
     ]
    },
    {
     "name": "stdout",
     "output_type": "stream",
     "text": [
      "[epoch:5] <Train> Loss: 0.095, Acc: 96.900% \t<Valid> Acc: 83.390%\n"
     ]
    },
    {
     "name": "stderr",
     "output_type": "stream",
     "text": [
      "Epoch [6/9]: 100%|██████████| 625/625 [00:06<00:00, 90.05it/s, loss=0.172]   \n"
     ]
    },
    {
     "name": "stdout",
     "output_type": "stream",
     "text": [
      "[epoch:6] <Train> Loss: 0.067, Acc: 97.955% \t<Valid> Acc: 83.443%\n"
     ]
    },
    {
     "name": "stderr",
     "output_type": "stream",
     "text": [
      "Epoch [7/9]: 100%|██████████| 625/625 [00:06<00:00, 92.07it/s, loss=0.0584]  \n"
     ]
    },
    {
     "name": "stdout",
     "output_type": "stream",
     "text": [
      "[epoch:7] <Train> Loss: 0.041, Acc: 98.905% \t<Valid> Acc: 83.532%\n"
     ]
    },
    {
     "name": "stderr",
     "output_type": "stream",
     "text": [
      "Epoch [8/9]: 100%|██████████| 625/625 [00:06<00:00, 93.34it/s, loss=0.0167]  \n"
     ]
    },
    {
     "name": "stdout",
     "output_type": "stream",
     "text": [
      "[epoch:8] <Train> Loss: 0.032, Acc: 99.210% \t<Valid> Acc: 83.407%\n"
     ]
    },
    {
     "name": "stderr",
     "output_type": "stream",
     "text": [
      "Epoch [9/9]: 100%|██████████| 625/625 [00:06<00:00, 92.07it/s, loss=0.00358] \n"
     ]
    },
    {
     "name": "stdout",
     "output_type": "stream",
     "text": [
      "[epoch:9] <Train> Loss: 0.026, Acc: 99.310% \t<Valid> Acc: 83.390%\n",
      "\n",
      "Train has finished, total epoch is 9, model saved.\n"
     ]
    }
   ],
   "source": [
    "# train\n",
    "from tqdm import tqdm\n",
    "\n",
    "train_losses = []\n",
    "train_counter = []\n",
    "test_accuracy = [0.0]\n",
    "test_counter = [i*len(train_dataloader.dataset) for i in range(EPOCH_NUM + 1)]\n",
    "\n",
    "for epoch in range(0, EPOCH_NUM):\n",
    "    model.train()\n",
    "    sum_loss = 0.0\n",
    "    correct = 0.0\n",
    "    total = 0.0\n",
    "\n",
    "    loop = tqdm(train_dataloader, total = len(train_dataloader))\n",
    "    for i, data in enumerate(loop):\n",
    "        # prepare dataset\n",
    "        length = len(train_dataloader)\n",
    "        inputs, labels = data\n",
    "        inputs, labels = inputs.to(device), labels.to(device)\n",
    "        optimizer.zero_grad()\n",
    "\n",
    "        # forward & backward\n",
    "        outputs = model(inputs)\n",
    "        loss = criterion(outputs, labels)\n",
    "        loss.backward()\n",
    "        optimizer.step()\n",
    "\n",
    "        # print ac & loss in each batch\n",
    "        sum_loss += loss.item()\n",
    "        _, predicted = torch.max(outputs.data, 1)\n",
    "        total += labels.size(0)\n",
    "        correct += predicted.eq(labels.data).cpu().sum()\n",
    "\n",
    "        train_losses.append(sum_loss / (i + 1))\n",
    "        if len(train_counter) == 0:\n",
    "            train_counter.append(len(data))\n",
    "        else:\n",
    "            train_counter.append(train_counter[-1] + len(data))\n",
    "        loop.set_description(f'Epoch [{epoch + 1}/{EPOCH_NUM}]')\n",
    "        loop.set_postfix(loss = loss.item())\n",
    "\n",
    "    scheduler.step()\n",
    "    print('[epoch:%d] <Train> Loss: %.03f, Acc: %.3f%% ' % (epoch + 1, train_losses[-1], 100. * correct / total), end='\\t')\n",
    "\n",
    "    # validation\n",
    "    with torch.no_grad():\n",
    "        correct = 0\n",
    "        total = 0\n",
    "        for data in valid_dataloader:\n",
    "            model.eval()\n",
    "            vec, labels = data\n",
    "            vec, labels = vec.to(device), labels.to(device)\n",
    "            outputs = model(vec)\n",
    "            _, predicted = torch.max(outputs.data, 1)\n",
    "            total += labels.size(0)\n",
    "            correct += (predicted == labels).sum()\n",
    "        print('<Valid> Acc: %.3f%%' % (100 * correct / total))\n",
    "        test_accuracy.append(correct.item() / total)\n",
    "\n",
    "\n",
    "torch.save(model.state_dict(), './' + str(EPOCH_NUM) +'epoch-model.pth')\n",
    "torch.save(optimizer.state_dict(), './' + str(EPOCH_NUM) +'epoch-optimizer.pth')\n",
    "print('\\nTrain has finished, total epoch is %d, model saved.' % EPOCH_NUM)"
   ],
   "metadata": {
    "collapsed": false
   }
  },
  {
   "cell_type": "code",
   "execution_count": 11,
   "outputs": [
    {
     "name": "stderr",
     "output_type": "stream",
     "text": [
      "C:\\Users\\Suxyuuu\\AppData\\Local\\Temp\\ipykernel_13416\\1541606216.py:8: UserWarning: Matplotlib is currently using module://matplotlib_inline.backend_inline, which is a non-GUI backend, so cannot show the figure.\n",
      "  fig1.show()\n"
     ]
    },
    {
     "data": {
      "text/plain": "<Figure size 640x480 with 1 Axes>",
      "image/png": "[encoded data removed]"
     },
     "metadata": {},
     "output_type": "display_data"
    }
   ],
   "source": [
    "import matplotlib.pyplot as plt\n",
    "\n",
    "fig1 = plt.figure()\n",
    "plt.plot(train_counter, train_losses, color='blue')\n",
    "plt.xlabel('number of training examples')\n",
    "plt.ylabel('negative log likelihood loss')\n",
    "plt.legend(['Train Loss'], loc='upper right')\n",
    "fig1.show()"
   ],
   "metadata": {
    "collapsed": false
   }
  },
  {
   "cell_type": "code",
   "execution_count": 12,
   "outputs": [
    {
     "name": "stderr",
     "output_type": "stream",
     "text": [
      "C:\\Users\\Suxyuuu\\AppData\\Local\\Temp\\ipykernel_13416\\2489387030.py:6: UserWarning: Matplotlib is currently using module://matplotlib_inline.backend_inline, which is a non-GUI backend, so cannot show the figure.\n",
      "  fig2.show()\n"
     ]
    },
    {
     "data": {
      "text/plain": "<Figure size 640x480 with 1 Axes>",
      "image/png": "[encoded data removed]"
     },
     "metadata": {},
     "output_type": "display_data"
    }
   ],
   "source": [
    "fig2 = plt.figure()\n",
    "plt.plot(test_counter, test_accuracy, color='red')\n",
    "plt.legend(['Test ACC'], loc='upper right')\n",
    "plt.xlabel('number of test examples')\n",
    "plt.ylabel('accuracy')\n",
    "fig2.show()"
   ],
   "metadata": {
    "collapsed": false
   }
  },
  {
   "cell_type": "code",
   "execution_count": 13,
   "outputs": [
    {
     "name": "stdout",
     "output_type": "stream",
     "text": [
      "Loading Test Dataset...\n",
      "\tSamples num：369\n",
      "\tLabel= 1: 187\n",
      "\tLabel= 0: 182\n"
     ]
    }
   ],
   "source": [
    "# 加载测试集\n",
    "print('Loading Test Dataset...')\n",
    "test_contents, test_labels = load_corpus('./data/test.txt', word2id, max_sen_len=50)\n",
    "\n",
    "test_dataset = TensorDataset(torch.from_numpy(test_contents).type(torch.float),\n",
    "                              torch.from_numpy(test_labels).type(torch.long))\n",
    "test_dataloader = DataLoader(dataset = test_dataset, batch_size = BATCH_SIZE,\n",
    "                              shuffle = True, num_workers = NUM_WORKERS)"
   ],
   "metadata": {
    "collapsed": false
   }
  },
  {
   "cell_type": "code",
   "execution_count": 14,
   "outputs": [
    {
     "name": "stderr",
     "output_type": "stream",
     "text": [
      "100%|██████████| 12/12 [00:02<00:00,  5.24it/s]"
     ]
    },
    {
     "name": "stdout",
     "output_type": "stream",
     "text": [
      "<Test> Acc: 83.740%\n"
     ]
    },
    {
     "name": "stderr",
     "output_type": "stream",
     "text": [
      "\n"
     ]
    }
   ],
   "source": [
    "config = CONFIG()\n",
    "model_path = './9epoch-model.pth'\n",
    "model = TextCNN(config)\n",
    "model.load_state_dict(torch.load(model_path))\n",
    "model.to(device)\n",
    "\n",
    "with torch.no_grad():\n",
    "        correct = 0\n",
    "        total = 0\n",
    "        for data in tqdm(test_dataloader):\n",
    "            model.eval()\n",
    "            vec, labels = data\n",
    "            vec, labels = vec.to(device), labels.to(device)\n",
    "            outputs = model(vec)\n",
    "            _, predicted = torch.max(outputs.data, 1)\n",
    "            total += labels.size(0)\n",
    "            correct += (predicted == labels).sum()\n",
    "        print('<Test> Acc: %.3f%%' % (100 * correct / total))\n",
    "        test_accuracy.append(correct.item() / total)"
   ],
   "metadata": {
    "collapsed": false
   }
  }
 ],
 "metadata": {
  "kernelspec": {
   "display_name": "Python 3",
   "language": "python",
   "name": "python3"
  },
  "language_info": {
   "codemirror_mode": {
    "name": "ipython",
    "version": 2
   },
   "file_extension": ".py",
   "mimetype": "text/x-python",
   "name": "python",
   "nbconvert_exporter": "python",
   "pygments_lexer": "ipython2",
   "version": "2.7.6"
  }
 },
 "nbformat": 4,
 "nbformat_minor": 0
}
