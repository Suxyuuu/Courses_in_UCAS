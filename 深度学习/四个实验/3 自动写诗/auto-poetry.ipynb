{
 "cells": [
  {
   "cell_type": "markdown",
   "source": [
    "## 1 Train Model"
   ],
   "metadata": {
    "collapsed": false
   }
  },
  {
   "cell_type": "code",
   "execution_count": 1,
   "outputs": [],
   "source": [
    "import numpy as np\n",
    "import torch\n",
    "import torch.nn as nn\n",
    "from torch.utils.data import DataLoader"
   ],
   "metadata": {
    "collapsed": false
   }
  },
  {
   "cell_type": "code",
   "execution_count": 2,
   "outputs": [],
   "source": [
    "# 设置超参数\n",
    "BATCH_SIZE = 32\n",
    "NUM_WORKERS = 2\n",
    "LR = 5e-3       # 学习率\n",
    "EMBEDDING_DIM = 128        # 嵌入层维度\n",
    "HIDDEN_DIM = 256           # 隐藏层维度\n",
    "EPOCH_NUM = 4                 # 训练轮数\n",
    "device = torch.device('cuda' if torch.cuda.is_available() else 'cpu')"
   ],
   "metadata": {
    "collapsed": false
   }
  },
  {
   "cell_type": "code",
   "execution_count": 3,
   "outputs": [],
   "source": [
    "def prepare_data():\n",
    "    # 读入预处理的数据\n",
    "    datas = np.load(\"./data/tang.npz\", allow_pickle=True)\n",
    "    data = datas['data']\n",
    "    ix2word = datas['ix2word'].item()\n",
    "    word2ix = datas['word2ix'].item()\n",
    "\n",
    "    # 转为torch.Tensor\n",
    "    data = torch.from_numpy(data)\n",
    "    dataloader = DataLoader(data,\n",
    "                         batch_size = BATCH_SIZE,\n",
    "                         shuffle = True,\n",
    "                         num_workers = NUM_WORKERS)\n",
    "    return dataloader, ix2word, word2ix"
   ],
   "metadata": {
    "collapsed": false
   }
  },
  {
   "cell_type": "code",
   "execution_count": 4,
   "outputs": [],
   "source": [
    "dataloader, ix2word, word2ix = prepare_data()"
   ],
   "metadata": {
    "collapsed": false
   }
  },
  {
   "cell_type": "code",
   "execution_count": 5,
   "outputs": [
    {
     "name": "stdout",
     "output_type": "stream",
     "text": [
      "tensor([[8292, 8292, 8292,  ..., 7113, 7435, 8290],\n",
      "        [8292, 8292, 8292,  ..., 6495, 7435, 8290],\n",
      "        [8291, 6276, 3788,  ...,  676, 7416, 7145],\n",
      "        ...,\n",
      "        [8292, 8292, 8292,  ...,  595, 7435, 8290],\n",
      "        [8292, 8292, 8292,  ..., 4998, 7435, 8290],\n",
      "        [8292, 8292, 8292,  ..., 1508, 7435, 8290]], dtype=torch.int32)\n",
      "torch.Size([32, 125])\n"
     ]
    }
   ],
   "source": [
    "for i, item in enumerate(dataloader):\n",
    "    print(item)\n",
    "    print(item.shape)  # (batch_size, token_length)\n",
    "    break"
   ],
   "metadata": {
    "collapsed": false
   }
  },
  {
   "cell_type": "code",
   "execution_count": 6,
   "outputs": [],
   "source": [
    "class PoetryModel(nn.Module):\n",
    "    def __init__(self, vocab_size, embedding_dim, hidden_dim):\n",
    "        super(PoetryModel, self).__init__()\n",
    "        self.hidden_dim = hidden_dim\n",
    "        self.embedding = nn.Embedding(vocab_size, embedding_dim)\n",
    "        self.lstm = nn.LSTM(embedding_dim, self.hidden_dim, num_layers=2)\n",
    "        self.linear = nn.Linear(self.hidden_dim, vocab_size)\n",
    "\n",
    "    def forward(self, inputs, hidden = None):\n",
    "        seq_len, batch_size = inputs.size()\n",
    "\n",
    "        if hidden is None:\n",
    "            h_0 = inputs.data.new(2, batch_size, self.hidden_dim).fill_(0).float()\n",
    "            c_0 = inputs.data.new(2, batch_size, self.hidden_dim).fill_(0).float()\n",
    "        else:\n",
    "            h_0, c_0 = hidden\n",
    "\n",
    "        embeds = self.embedding(inputs)\n",
    "        outputs, hidden = self.lstm(embeds, (h_0, c_0))\n",
    "        outputs = self.linear(outputs.view(seq_len * batch_size, -1))\n",
    "        return outputs, hidden"
   ],
   "metadata": {
    "collapsed": false
   }
  },
  {
   "cell_type": "code",
   "execution_count": 7,
   "outputs": [],
   "source": [
    "model_path = None          # 预训练模型路径\n",
    "model = PoetryModel(len(word2ix), EMBEDDING_DIM, HIDDEN_DIM)\n",
    "if model_path:\n",
    "    model.load_state_dict(torch.load(model_path))\n",
    "model.to(device)\n",
    "\n",
    "criterion = nn.CrossEntropyLoss()\n",
    "optimizer = torch.optim.Adam(model.parameters(), lr = LR)"
   ],
   "metadata": {
    "collapsed": false
   }
  },
  {
   "cell_type": "code",
   "execution_count": 8,
   "outputs": [
    {
     "name": "stderr",
     "output_type": "stream",
     "text": [
      "Epoch [1/4]: 100%|██████████| 1800/1800 [02:17<00:00, 13.07it/s, loss=2.61]\n"
     ]
    },
    {
     "name": "stdout",
     "output_type": "stream",
     "text": [
      "[epoch:1] <Train> Loss: 2.610\n"
     ]
    },
    {
     "name": "stderr",
     "output_type": "stream",
     "text": [
      "Epoch [2/4]: 100%|██████████| 1800/1800 [02:17<00:00, 13.12it/s, loss=2.07]\n"
     ]
    },
    {
     "name": "stdout",
     "output_type": "stream",
     "text": [
      "[epoch:2] <Train> Loss: 2.072\n"
     ]
    },
    {
     "name": "stderr",
     "output_type": "stream",
     "text": [
      "Epoch [3/4]: 100%|██████████| 1800/1800 [02:16<00:00, 13.20it/s, loss=2]   \n"
     ]
    },
    {
     "name": "stdout",
     "output_type": "stream",
     "text": [
      "[epoch:3] <Train> Loss: 2.000\n"
     ]
    },
    {
     "name": "stderr",
     "output_type": "stream",
     "text": [
      "Epoch [4/4]: 100%|██████████| 1800/1800 [02:16<00:00, 13.19it/s, loss=1.81]"
     ]
    },
    {
     "name": "stdout",
     "output_type": "stream",
     "text": [
      "[epoch:4] <Train> Loss: 1.813\n",
      "Train has finished, total epoch is 4\n"
     ]
    },
    {
     "name": "stderr",
     "output_type": "stream",
     "text": [
      "\n"
     ]
    }
   ],
   "source": [
    "# train\n",
    "from tqdm import tqdm\n",
    "train_losses = []\n",
    "train_counter = []\n",
    "\n",
    "for epoch in range(0, EPOCH_NUM):\n",
    "    model.train()\n",
    "\n",
    "    loop = tqdm(dataloader, total = len(dataloader))\n",
    "    for data in loop:\n",
    "        data = data.long().transpose(1, 0).contiguous()\n",
    "        data = data.to(device)\n",
    "        inputs, target = data[:-1, :], data[1:, :]\n",
    "        outputs, _ = model(inputs)\n",
    "        loss = criterion(outputs, target.view(-1))\n",
    "\n",
    "        optimizer.zero_grad()\n",
    "        loss.backward()\n",
    "        optimizer.step()\n",
    "\n",
    "        train_losses.append(loss.item())\n",
    "        if len(train_counter) == 0:\n",
    "            train_counter.append(len(data))\n",
    "        else:\n",
    "            train_counter.append(train_counter[-1] + len(data))\n",
    "\n",
    "        loop.set_description(f'Epoch [{epoch + 1}/{EPOCH_NUM}]')\n",
    "        loop.set_postfix(loss = loss.item())\n",
    "\n",
    "    print('[epoch:%d] <Train> Loss: %.03f' % (epoch + 1, train_losses[-1]))\n",
    "\n",
    "print('Train has finished, total epoch is %d' % EPOCH_NUM)\n",
    "torch.save(model.state_dict(), './' + str(EPOCH_NUM) +'epoch-model.pth')\n",
    "torch.save(optimizer.state_dict(), './' + str(EPOCH_NUM) +'epoch-optimizer.pth')"
   ],
   "metadata": {
    "collapsed": false
   }
  },
  {
   "cell_type": "code",
   "execution_count": 9,
   "outputs": [
    {
     "name": "stderr",
     "output_type": "stream",
     "text": [
      "C:\\Users\\Suxyuuu\\AppData\\Local\\Temp\\ipykernel_21468\\4166752260.py:7: UserWarning: Matplotlib is currently using module://matplotlib_inline.backend_inline, which is a non-GUI backend, so cannot show the figure.\n",
      "  fig.show()\n"
     ]
    },
    {
     "data": {
      "text/plain": "<Figure size 640x480 with 1 Axes>",
      "image/png": "[encoded data removed]"
     },
     "metadata": {},
     "output_type": "display_data"
    }
   ],
   "source": [
    "import matplotlib.pyplot as plt\n",
    "fig = plt.figure()\n",
    "plt.plot(train_counter, train_losses, color='blue')\n",
    "plt.xlabel('number of training examples')\n",
    "plt.ylabel('negative log likelihood loss')\n",
    "plt.legend(['Train Loss'], loc='upper right')\n",
    "fig.show()"
   ],
   "metadata": {
    "collapsed": false
   }
  },
  {
   "cell_type": "markdown",
   "source": [
    "## 2 Poetry"
   ],
   "metadata": {
    "collapsed": false
   }
  },
  {
   "cell_type": "code",
   "execution_count": 10,
   "outputs": [],
   "source": [
    "# load model\n",
    "model_path = './4epoch-model.pth'       # 模型路径\n",
    "start_words = '湖光秋月两相和'             # 唐诗的第一句\n",
    "max_gen_len = 125                       # 生成唐诗的最长长度"
   ],
   "metadata": {
    "collapsed": false
   }
  },
  {
   "cell_type": "code",
   "execution_count": 11,
   "outputs": [],
   "source": [
    "def generate(start_words, ix2word, word2ix):\n",
    "    # 读取模型\n",
    "    model = PoetryModel(len(word2ix), EMBEDDING_DIM, HIDDEN_DIM)\n",
    "    model.load_state_dict(torch.load(model_path))\n",
    "    model.to(device)\n",
    "\n",
    "    # 读取唐诗的第一句\n",
    "    results = list(start_words)\n",
    "    start_word_len = len(start_words)\n",
    "\n",
    "    # 设置第一个词为<START>\n",
    "    inputs = torch.Tensor([word2ix['<START>']]).view(1, 1).long()\n",
    "    inputs = inputs.to(device)\n",
    "    hidden = None\n",
    "\n",
    "    # 生成唐诗\n",
    "    for i in range(max_gen_len):\n",
    "        outputs, hidden = model(inputs, hidden)\n",
    "        # 读取第一句\n",
    "        if i < start_word_len:\n",
    "            w = results[i]\n",
    "            inputs = inputs.data.new([word2ix[w]]).view(1, 1)\n",
    "        # 生成后面的句子\n",
    "        else:\n",
    "            top_index = outputs.data[0].topk(1)[1][0].item()\n",
    "            w = ix2word[top_index]\n",
    "            results.append(w)\n",
    "            inputs = inputs.data.new([top_index]).view(1, 1)\n",
    "        # 结束标志\n",
    "        if w == '<EOP>':\n",
    "            del results[-1]\n",
    "            break\n",
    "\n",
    "    poetry_str = \"\"\n",
    "    for ch in results:\n",
    "        poetry_str += ch\n",
    "        if ch == u'。':\n",
    "            poetry_str += '\\n'\n",
    "    return poetry_str"
   ],
   "metadata": {
    "collapsed": false
   }
  },
  {
   "cell_type": "code",
   "execution_count": 12,
   "outputs": [
    {
     "name": "stdout",
     "output_type": "stream",
     "text": [
      "湖光秋月两相和，水石无人见山色。\n",
      "山中日月照春风，春风吹落花前开。\n",
      "春风吹落花落时，春风吹落花前开。\n",
      "春风吹落花落时，春风吹落花前开。\n",
      "春风吹落花落时，春风吹落花前开。\n",
      "春风吹落花落时，春风吹落花前开。\n",
      "春风吹，春色长，不见春风吹。\n",
      "不知此曲不相见，不见春风吹不定\n"
     ]
    }
   ],
   "source": [
    "results = generate(start_words, ix2word, word2ix)\n",
    "print(results)"
   ],
   "metadata": {
    "collapsed": false
   }
  },
  {
   "cell_type": "markdown",
   "source": [
    "## 3 Acrostic poetry"
   ],
   "metadata": {
    "collapsed": false
   }
  },
  {
   "cell_type": "code",
   "execution_count": 13,
   "outputs": [],
   "source": [
    "# load model\n",
    "model_path = './4epoch-model.pth'       # 模型路径\n",
    "start_words_acrostic  = '湖光秋月两相和'   # 藏头的内容\n",
    "max_gen_len_acrostic = 125              # 生成唐诗的最长长度"
   ],
   "metadata": {
    "collapsed": false
   }
  },
  {
   "cell_type": "code",
   "execution_count": 14,
   "outputs": [],
   "source": [
    "def gen_acrostic(start_words, ix2word, word2ix):\n",
    "    # 读取模型\n",
    "    model = PoetryModel(len(word2ix), EMBEDDING_DIM, HIDDEN_DIM)\n",
    "    model.load_state_dict(torch.load(model_path))\n",
    "    model.to(device)\n",
    "\n",
    "    # 读取唐诗的“头”\n",
    "    results = []\n",
    "    start_word_len = len(start_words)\n",
    "\n",
    "    # 设置第一个词为<START>\n",
    "    inputs = (torch.Tensor([word2ix['<START>']]).view(1, 1).long())\n",
    "    inputs = inputs.to(device)\n",
    "    hidden = None\n",
    "\n",
    "    index = 0            # 指示已生成了多少句\n",
    "    pre_word = '<START>' # 上一个词\n",
    "\n",
    "    # 生成藏头诗\n",
    "    for i in range(max_gen_len_acrostic):\n",
    "        outputs, hidden = model(inputs, hidden)\n",
    "        top_index = outputs.data[0].topk(1)[1][0].item()\n",
    "        w = ix2word[top_index]\n",
    "\n",
    "        # 如果遇到标志一句的结尾，喂入下一个“头”\n",
    "        if (pre_word in {u'。', u'！', '<START>'}):\n",
    "            # 如果生成的诗已经包含全部“头”，则结束\n",
    "            if index == start_word_len:\n",
    "                break\n",
    "            # 把“头”作为输入喂入模型\n",
    "            else:\n",
    "                w = start_words[index]\n",
    "                index += 1\n",
    "                inputs = (inputs.data.new([word2ix[w]])).view(1, 1)\n",
    "\n",
    "        # 否则，把上一次预测作为下一个词输入\n",
    "        else:\n",
    "            inputs = (inputs.data.new([word2ix[w]])).view(1, 1)\n",
    "        results.append(w)\n",
    "        pre_word = w\n",
    "\n",
    "    poetry_str = \"\"\n",
    "    for ch in results:\n",
    "        poetry_str += ch\n",
    "        if ch == u'。':\n",
    "            poetry_str += '\\n'\n",
    "    return poetry_str"
   ],
   "metadata": {
    "collapsed": false
   }
  },
  {
   "cell_type": "code",
   "execution_count": 15,
   "outputs": [
    {
     "name": "stdout",
     "output_type": "stream",
     "text": [
      "湖上春风起，江南春草深。\n",
      "光辉日月好，独坐夜深深。\n",
      "秋色生春色，清风入竹扉。\n",
      "月明花下月，花落夜灯明。\n",
      "两岸花初发，新晴月满林。\n",
      "相思无限客，春色满林阴。\n",
      "和气随风起，清风入夜深。\n",
      "\n"
     ]
    }
   ],
   "source": [
    "results_acrostic = gen_acrostic(start_words_acrostic, ix2word, word2ix)\n",
    "print(results_acrostic)"
   ],
   "metadata": {
    "collapsed": false
   }
  }
 ],
 "metadata": {
  "kernelspec": {
   "display_name": "Python 3",
   "language": "python",
   "name": "python3"
  },
  "language_info": {
   "codemirror_mode": {
    "name": "ipython",
    "version": 2
   },
   "file_extension": ".py",
   "mimetype": "text/x-python",
   "name": "python",
   "nbconvert_exporter": "python",
   "pygments_lexer": "ipython2",
   "version": "2.7.6"
  }
 },
 "nbformat": 4,
 "nbformat_minor": 0
}
