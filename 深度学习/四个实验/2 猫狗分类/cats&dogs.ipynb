{
 "cells": [
  {
   "cell_type": "code",
   "execution_count": 1,
   "metadata": {},
   "outputs": [],
   "source": [
    "import os"
   ]
  },
  {
   "cell_type": "code",
   "execution_count": 2,
   "metadata": {},
   "outputs": [
    {
     "name": "stdout",
     "output_type": "stream",
     "text": [
      "Preprocess datasets Done!\n"
     ]
    }
   ],
   "source": [
    "# 整理dataset\n",
    "dataset_path = '../autodl-tmp/kaggle_datasets/train/'\n",
    "train_dataset_path = '../autodl-tmp/kaggle_datasets/train/'\n",
    "test_dataset_path = '../autodl-tmp/kaggle_datasets/test/'\n",
    "train_cat_path = train_dataset_path + 'cat/'\n",
    "train_dog_path = train_dataset_path + 'dog/'\n",
    "test_cat_path = test_dataset_path + 'cat/'\n",
    "test_dog_path = test_dataset_path + 'cat/'\n",
    "\n",
    "origin_files = os.listdir(dataset_path)\n",
    "for file in origin_files:\n",
    "    if os.path.isdir(file):\n",
    "        continue\n",
    "    oldfile_path = dataset_path + file\n",
    "    (file_name, file_ext) = os.path.splitext(file)\n",
    "    columns = file_name.split('.')\n",
    "    if len(columns) != 2:\n",
    "        continue\n",
    "    label = columns[0]\n",
    "    index = columns[1]\n",
    "    index = int(index)\n",
    "    new_filename = str(index) + file_ext\n",
    "    if index < 10000:\n",
    "        if label == 'cat':\n",
    "            newfile_path = train_cat_path + new_filename\n",
    "        else:\n",
    "            newfile_path = train_dog_path + new_filename\n",
    "    else:\n",
    "        if label == 'cat':\n",
    "            newfile_path = test_cat_path + new_filename\n",
    "        else:\n",
    "            newfile_path = test_dog_path + new_filename\n",
    "    os.replace(oldfile_path, newfile_path)\n",
    "\n",
    "print('Preprocess datasets Done!')"
   ]
  },
  {
   "cell_type": "code",
   "execution_count": 3,
   "metadata": {},
   "outputs": [],
   "source": [
    "from torchvision import transforms, datasets\n",
    "\n",
    "#定义transforms\n",
    "transforms = transforms.Compose(\n",
    "[\n",
    "transforms.RandomResizedCrop(150),\n",
    "transforms.ToTensor(),\n",
    "transforms.Normalize(mean=[0.485, 0.456, 0.406],\n",
    "                    std=[0.229, 0.224, 0.225])\n",
    "]\n",
    ")\n",
    "\n",
    "train_data = datasets.ImageFolder(train_dataset_path, transforms)\n",
    "test_data=datasets.ImageFolder(test_dataset_path, transforms)"
   ]
  },
  {
   "cell_type": "code",
   "execution_count": 4,
   "metadata": {},
   "outputs": [
    {
     "name": "stdout",
     "output_type": "stream",
     "text": [
      "train dataset size: 20000\n",
      "test dataset size: 5000\n",
      "the first train dataset sample tensor shape: torch.Size([3, 150, 150])\n",
      "the first train dataset sample label: 0\n"
     ]
    }
   ],
   "source": [
    "print('train dataset size: {}'.format(len(train_data)))\n",
    "print('test dataset size: {}'.format(len(test_data)))\n",
    "print('the first train dataset sample tensor shape: {}'.format(train_data[0][0].shape))\n",
    "print('the first train dataset sample label: {}'.format(train_data[0][1]))"
   ]
  },
  {
   "cell_type": "code",
   "execution_count": 5,
   "metadata": {},
   "outputs": [],
   "source": [
    "import torch\n",
    "\n",
    "def dataset_split(full_dateset, train_rate): # full_ds为train_ds, train_rate=0.8\n",
    "    train_size = int(len(full_dateset) * train_rate)\n",
    "    validate_size = len(full_dateset) - train_size\n",
    "    train_dataset, validate_dataset = torch.utils.data.random_split(full_dateset, [train_size, validate_size])\n",
    "    return train_dataset, validate_dataset\n",
    "\n",
    "def dataloader(dataset, batch_size, num_workers):\n",
    "    data_loader = torch.utils.data.DataLoader(dataset, batch_size, shuffle=True, pin_memory=True, num_workers=num_workers)\n",
    "    return data_loader"
   ]
  },
  {
   "cell_type": "code",
   "execution_count": 6,
   "metadata": {},
   "outputs": [],
   "source": [
    "device = torch.device(\"cuda\" if torch.cuda.is_available() else \"cpu\")\n",
    "EPOCH = 30\n",
    "LR = 0.001\n",
    "TRAIN_RATE = 0.8\n",
    "NUM_WORKERS = 14 # cpu cores num\n",
    "BATCH_SIZE = 1500\n"
   ]
  },
  {
   "cell_type": "code",
   "execution_count": 7,
   "metadata": {},
   "outputs": [
    {
     "name": "stdout",
     "output_type": "stream",
     "text": [
      "train dataset size: 16000\n",
      "valid dataset size: 4000\n",
      "0\n",
      "torch.Size([1500, 3, 150, 150])\n"
     ]
    }
   ],
   "source": [
    "train_data, valid_data = dataset_split(train_data, TRAIN_RATE)\n",
    "print('train dataset size: {}'.format(len(train_data)))\n",
    "print('valid dataset size: {}'.format(len(valid_data)))\n",
    "train_dataloader = dataloader(train_data, BATCH_SIZE, NUM_WORKERS)\n",
    "valid_dataloader = dataloader(valid_data, BATCH_SIZE, NUM_WORKERS)\n",
    "test_dataloader = dataloader(test_data, BATCH_SIZE, NUM_WORKERS)\n",
    "\n",
    "for i, item in enumerate(train_dataloader):\n",
    "    print(i)\n",
    "    print(item[0].shape)  # (batchsize, channels, width, height)\n",
    "    break"
   ]
  },
  {
   "cell_type": "code",
   "execution_count": 8,
   "metadata": {},
   "outputs": [
    {
     "name": "stderr",
     "output_type": "stream",
     "text": [
      "/root/miniconda3/lib/python3.8/site-packages/torchvision/models/_utils.py:208: UserWarning: The parameter 'pretrained' is deprecated since 0.13 and may be removed in the future, please use 'weights' instead.\n",
      "  warnings.warn(\n",
      "/root/miniconda3/lib/python3.8/site-packages/torchvision/models/_utils.py:223: UserWarning: Arguments other than a weight enum or `None` for 'weights' are deprecated since 0.13 and may be removed in the future. The current behavior is equivalent to passing `weights=ResNet18_Weights.IMAGENET1K_V1`. You can also use `weights=ResNet18_Weights.DEFAULT` to get the most up-to-date weights.\n",
      "  warnings.warn(msg)\n"
     ]
    }
   ],
   "source": [
    "import torch.optim as optim\n",
    "from torchvision import models\n",
    "from torch import nn\n",
    "resnet18 = models.resnet18(pretrained=True)\n",
    "resnet18.fc = nn.Linear(512, 2) # 将最后一层全连接的输出调整到2维\n",
    "net = resnet18.to(device)\n",
    "criterion = nn.CrossEntropyLoss()\n",
    "optimizer = optim.SGD(net.parameters(), lr=LR, momentum=0.9, weight_decay=5e-4)\n",
    "scheduler = optim.lr_scheduler.StepLR(optimizer, step_size=10, gamma=0.5)"
   ]
  },
  {
   "cell_type": "code",
   "execution_count": 9,
   "metadata": {},
   "outputs": [
    {
     "name": "stdout",
     "output_type": "stream",
     "text": [
      "[epoch:1] <Train> Loss: 0.580, Acc: 67.600% \t<Test> Acc: 87.850%\n",
      "[epoch:2] <Train> Loss: 0.298, Acc: 88.144% \t<Test> Acc: 92.000%\n",
      "[epoch:3] <Train> Loss: 0.207, Acc: 92.325% \t<Test> Acc: 92.675%\n",
      "[epoch:4] <Train> Loss: 0.180, Acc: 92.762% \t<Test> Acc: 93.250%\n",
      "[epoch:5] <Train> Loss: 0.163, Acc: 93.775% \t<Test> Acc: 93.875%\n",
      "[epoch:6] <Train> Loss: 0.156, Acc: 93.700% \t<Test> Acc: 94.100%\n",
      "[epoch:7] <Train> Loss: 0.148, Acc: 94.113% \t<Test> Acc: 94.650%\n",
      "[epoch:8] <Train> Loss: 0.144, Acc: 94.275% \t<Test> Acc: 94.000%\n",
      "[epoch:9] <Train> Loss: 0.141, Acc: 94.444% \t<Test> Acc: 94.800%\n",
      "[epoch:10] <Train> Loss: 0.136, Acc: 94.369% \t<Test> Acc: 94.425%\n",
      "[epoch:11] <Train> Loss: 0.131, Acc: 94.600% \t<Test> Acc: 94.600%\n",
      "[epoch:12] <Train> Loss: 0.129, Acc: 94.800% \t<Test> Acc: 94.600%\n",
      "[epoch:13] <Train> Loss: 0.128, Acc: 94.875% \t<Test> Acc: 95.000%\n",
      "[epoch:14] <Train> Loss: 0.125, Acc: 95.000% \t<Test> Acc: 94.750%\n",
      "[epoch:15] <Train> Loss: 0.124, Acc: 94.969% \t<Test> Acc: 95.025%\n",
      "[epoch:16] <Train> Loss: 0.120, Acc: 95.231% \t<Test> Acc: 94.250%\n",
      "[epoch:17] <Train> Loss: 0.121, Acc: 95.175% \t<Test> Acc: 94.775%\n",
      "[epoch:18] <Train> Loss: 0.122, Acc: 94.931% \t<Test> Acc: 94.900%\n",
      "[epoch:19] <Train> Loss: 0.117, Acc: 95.262% \t<Test> Acc: 95.000%\n",
      "[epoch:20] <Train> Loss: 0.118, Acc: 95.206% \t<Test> Acc: 94.950%\n",
      "[epoch:21] <Train> Loss: 0.118, Acc: 95.100% \t<Test> Acc: 94.925%\n",
      "[epoch:22] <Train> Loss: 0.113, Acc: 95.419% \t<Test> Acc: 94.550%\n",
      "[epoch:23] <Train> Loss: 0.119, Acc: 95.113% \t<Test> Acc: 95.150%\n",
      "[epoch:24] <Train> Loss: 0.119, Acc: 95.025% \t<Test> Acc: 95.375%\n",
      "[epoch:25] <Train> Loss: 0.115, Acc: 95.150% \t<Test> Acc: 95.325%\n",
      "[epoch:26] <Train> Loss: 0.118, Acc: 95.125% \t<Test> Acc: 94.425%\n",
      "[epoch:27] <Train> Loss: 0.115, Acc: 95.262% \t<Test> Acc: 95.225%\n",
      "[epoch:28] <Train> Loss: 0.115, Acc: 95.269% \t<Test> Acc: 95.075%\n",
      "[epoch:29] <Train> Loss: 0.118, Acc: 95.200% \t<Test> Acc: 95.200%\n",
      "[epoch:30] <Train> Loss: 0.115, Acc: 95.200% \t<Test> Acc: 95.350%\n",
      "Train has finished, total epoch is 30\n"
     ]
    }
   ],
   "source": [
    "# train\n",
    "train_losses = []\n",
    "train_counter = []\n",
    "test_accuracy = [0.0]\n",
    "test_counter = [i*len(train_dataloader.dataset) for i in range(EPOCH + 1)]\n",
    "\n",
    "for epoch in range(0, EPOCH):\n",
    "    # print('Epoch: %d' % (epoch + 1))\n",
    "    net.train()\n",
    "    sum_loss = 0.0\n",
    "    correct = 0.0\n",
    "    total = 0.0\n",
    "    for i, data in enumerate(train_dataloader, 0):\n",
    "        # prepare dataset\n",
    "        length = len(train_dataloader)\n",
    "        inputs, labels = data\n",
    "        inputs, labels = inputs.to(device), labels.to(device)\n",
    "        optimizer.zero_grad()\n",
    "        \n",
    "        # forward & backward\n",
    "        outputs = net(inputs)\n",
    "        loss = criterion(outputs, labels)\n",
    "        loss.backward()\n",
    "        optimizer.step()\n",
    "        \n",
    "        # print ac & loss in each batch\n",
    "        sum_loss += loss.item()\n",
    "        _, predicted = torch.max(outputs.data, 1)\n",
    "        total += labels.size(0)\n",
    "        correct += predicted.eq(labels.data).cpu().sum()\n",
    "        train_losses.append(sum_loss / (i + 1))\n",
    "        train_counter.append((i*BATCH_SIZE) + (epoch*len(train_dataloader.dataset)))\n",
    "    scheduler.step()\n",
    "    print('[epoch:%d] <Train> Loss: %.03f, Acc: %.3f%% ' % (epoch + 1, sum_loss / (i + 1), 100. * correct / total), end='\\t')\n",
    "        \n",
    "    # get the ac with testdataset in each epoch\n",
    "    with torch.no_grad():\n",
    "        correct = 0\n",
    "        total = 0\n",
    "        for data in valid_dataloader:\n",
    "            net.eval()\n",
    "            images, labels = data\n",
    "            images, labels = images.to(device), labels.to(device)\n",
    "            outputs = net(images)\n",
    "            _, predicted = torch.max(outputs.data, 1)\n",
    "            total += labels.size(0)\n",
    "            correct += (predicted == labels).sum()\n",
    "        print('<Test> Acc: %.3f%%' % (100 * correct / total))\n",
    "        test_accuracy.append(correct.item() / total)\n",
    "\n",
    "print('Train has finished, total epoch is %d' % EPOCH)\n",
    "torch.save(net.state_dict(), './' + str(EPOCH) +'epoch-model.pth')\n",
    "torch.save(optimizer.state_dict(), './' + str(EPOCH) +'epoch-optimizer.pth')"
   ]
  },
  {
   "cell_type": "code",
   "execution_count": 10,
   "metadata": {},
   "outputs": [
    {
     "data": {
      "image/png": "[encoded data removed]",
      "text/plain": [
       "<Figure size 640x480 with 1 Axes>"
      ]
     },
     "metadata": {},
     "output_type": "display_data"
    }
   ],
   "source": [
    "import matplotlib.pyplot as plt\n",
    "fig1 = plt.figure()\n",
    "plt.plot(train_counter, train_losses, color='blue')\n",
    "plt.xlabel('number of training examples')\n",
    "plt.ylabel('negative log likelihood loss')\n",
    "plt.legend(['Train Loss'], loc='upper right')\n",
    "fig1.show()"
   ]
  },
  {
   "cell_type": "code",
   "execution_count": 11,
   "metadata": {},
   "outputs": [
    {
     "data": {
      "text/plain": [
       "Text(0, 0.5, 'accuracy')"
      ]
     },
     "execution_count": 11,
     "metadata": {},
     "output_type": "execute_result"
    },
    {
     "data": {
      "image/png": "[encoded data removed]",
      "text/plain": [
       "<Figure size 640x480 with 1 Axes>"
      ]
     },
     "metadata": {},
     "output_type": "display_data"
    }
   ],
   "source": [
    "# print(test_counter)\n",
    "# print(test_accuracy)\n",
    "fig2 = plt.figure()\n",
    "plt.plot(test_counter, test_accuracy, color='red')\n",
    "plt.legend(['Test ACC'], loc='upper right')\n",
    "plt.xlabel('number of test examples')\n",
    "plt.ylabel('accuracy')"
   ]
  }
 ],
 "metadata": {
  "kernelspec": {
   "display_name": "base",
   "language": "python",
   "name": "python3"
  },
  "language_info": {
   "codemirror_mode": {
    "name": "ipython",
    "version": 3
   },
   "file_extension": ".py",
   "mimetype": "text/x-python",
   "name": "python",
   "nbconvert_exporter": "python",
   "pygments_lexer": "ipython3",
   "version": "3.8.10"
  },
  "orig_nbformat": 4
 },
 "nbformat": 4,
 "nbformat_minor": 2
}
